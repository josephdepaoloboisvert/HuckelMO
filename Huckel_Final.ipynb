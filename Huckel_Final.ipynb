{
  "cells": [
    {
      "cell_type": "markdown",
      "source": [
        "# HUCKEL Molecular Orbital (HMO) Calculations\n",
        "\n",
        "### CHEM344  Physical Chemistry\n",
        "#### Department of Chemistry\n",
        "#### Illinois Institute of Technology\n",
        "\n",
        "#### Original Bash Code By Jingbai Li\n",
        "#### Translated to Python by Joseph DePaolo-Boisvert\n",
        "#### HUCKELMO Version 2.0  Aug 30th 2017\n",
        "#### Nov 1st, 2022\n",
        "\n"
      ],
      "metadata": {
        "id": "IbMtakdKw9OV"
      },
      "id": "IbMtakdKw9OV"
    },
    {
      "cell_type": "code",
      "source": [
        "import numpy as np\n",
        "from numpy import real\n",
        "import glob\n",
        "import math\n",
        "import matplotlib.pyplot as plt\n",
        "%matplotlib inline"
      ],
      "metadata": {
        "id": "5PczdqsYXWaL"
      },
      "id": "5PczdqsYXWaL",
      "execution_count": 1,
      "outputs": []
    },
    {
      "cell_type": "markdown",
      "source": [
        "Some Example Calculations using numpy arrays"
      ],
      "metadata": {
        "id": "3qFD3eETYcL7"
      },
      "id": "3qFD3eETYcL7"
    },
    {
      "cell_type": "code",
      "source": [
        "a, b = np.arange(1,9), np.arange(15,23)\n",
        "print(a,b)"
      ],
      "metadata": {
        "colab": {
          "base_uri": "https://localhost:8080/"
        },
        "id": "l7-P1e-2YgJI",
        "outputId": "b995afd0-c5aa-4982-b948-027018f6c0cc"
      },
      "id": "l7-P1e-2YgJI",
      "execution_count": 20,
      "outputs": [
        {
          "output_type": "stream",
          "name": "stdout",
          "text": [
            "[1 2 3 4 5 6 7 8] [15 16 17 18 19 20 21 22]\n"
          ]
        }
      ]
    },
    {
      "cell_type": "code",
      "source": [
        "#Pairwise Operations\n",
        "print(a+b)\n",
        "print(b-a)\n",
        "print(a*b)\n",
        "print(b/a)"
      ],
      "metadata": {
        "colab": {
          "base_uri": "https://localhost:8080/"
        },
        "id": "Z2wHak5hYgSZ",
        "outputId": "2bba12fb-c627-4243-a64c-cd7e14e997dc"
      },
      "id": "Z2wHak5hYgSZ",
      "execution_count": 21,
      "outputs": [
        {
          "output_type": "stream",
          "name": "stdout",
          "text": [
            "[16 18 20 22 24 26 28 30]\n",
            "[14 14 14 14 14 14 14 14]\n",
            "[ 15  32  51  72  95 120 147 176]\n",
            "[15.          8.          5.66666667  4.5         3.8         3.33333333\n",
            "  3.          2.75      ]\n"
          ]
        }
      ]
    },
    {
      "cell_type": "code",
      "source": [
        "a, b = a.reshape((2,4)), b.reshape((2, 4))\n",
        "print(a)\n",
        "print(b)\n",
        "#Try running the cell above"
      ],
      "metadata": {
        "colab": {
          "base_uri": "https://localhost:8080/"
        },
        "id": "slLcej-RYgat",
        "outputId": "5a91ef9a-c7c5-4ace-9676-b2bc6b148b3c"
      },
      "id": "slLcej-RYgat",
      "execution_count": 18,
      "outputs": [
        {
          "output_type": "stream",
          "name": "stdout",
          "text": [
            "[[1 2 3 4]\n",
            " [5 6 7 8]]\n",
            "[[15 16 17 18]\n",
            " [19 20 21 22]]\n"
          ]
        }
      ]
    },
    {
      "cell_type": "markdown",
      "source": [
        "## Molecular Orbitals Calculation\n",
        "\n",
        "The cell below will mount your google drive, making files from drive accessible.\n",
        "Specify your directory on drive that contains the input structures from github, if you do not see the structures files listed below (output 2 cells below) raise your hand."
      ],
      "metadata": {
        "id": "yHByKaonYIda"
      },
      "id": "yHByKaonYIda"
    },
    {
      "cell_type": "code",
      "source": [
        "from IPython.testing import test\n",
        "from google.colab import drive\n",
        "drive.mount('/content/drive')\n",
        "##################################################################\n",
        "structures_dir = '/content/drive/MyDrive/Huckel/structures/'###### CHANGE ME\n",
        "################################################################## WITH TRAILING SLASH"
      ],
      "metadata": {
        "colab": {
          "base_uri": "https://localhost:8080/"
        },
        "id": "Lc0CpPphKNFQ",
        "outputId": "bea6045c-c1e9-4859-f120-884a2c96c1b6"
      },
      "id": "Lc0CpPphKNFQ",
      "execution_count": 2,
      "outputs": [
        {
          "output_type": "stream",
          "name": "stdout",
          "text": [
            "Mounted at /content/drive\n"
          ]
        }
      ]
    },
    {
      "cell_type": "code",
      "source": [
        "mol2s = glob.glob(f'{structures_dir}*.mol2')\n",
        "print(mol2s)"
      ],
      "metadata": {
        "id": "A8IBqDS3XKza",
        "colab": {
          "base_uri": "https://localhost:8080/"
        },
        "outputId": "9098746a-6d1f-47fb-cadd-fab582dfaa25"
      },
      "id": "A8IBqDS3XKza",
      "execution_count": 3,
      "outputs": [
        {
          "output_type": "stream",
          "name": "stdout",
          "text": [
            "['/content/drive/MyDrive/Huckel/structures/11DIETHYL44DICARBOCYANINE.mol2', '/content/drive/MyDrive/Huckel/structures/benzene.mol2', '/content/drive/MyDrive/Huckel/structures/11DIETHYL44CARBOCYANINE.mol2', '/content/drive/MyDrive/Huckel/structures/11DIETHYL22DICARBOCYANINE.mol2', '/content/drive/MyDrive/Huckel/structures/11DIETHYL22CYANINE.mol2', '/content/drive/MyDrive/Huckel/structures/benzene-test.mol2', '/content/drive/MyDrive/Huckel/structures/11DIETHYL22CYANINE-new.mol2', '/content/drive/MyDrive/Huckel/structures/11DIETHYL22DICARBOCYANINE-new.mol2', '/content/drive/MyDrive/Huckel/structures/11DIETHYL44CARBOCYANINE-new.mol2', '/content/drive/MyDrive/Huckel/structures/11DIETHYL44DICARBOCYANINE-new.mol2']\n"
          ]
        }
      ]
    },
    {
      "cell_type": "code",
      "source": [
        "#Installing py3Dmol using pip\n",
        "!pip install py3Dmol\n",
        "import py3Dmol as py3"
      ],
      "metadata": {
        "colab": {
          "base_uri": "https://localhost:8080/"
        },
        "id": "tSU1-f4IdzE9",
        "outputId": "eceb2350-3da2-447d-c8e0-70a054f756e7"
      },
      "id": "tSU1-f4IdzE9",
      "execution_count": 33,
      "outputs": [
        {
          "output_type": "stream",
          "name": "stdout",
          "text": [
            "Looking in indexes: https://pypi.org/simple, https://us-python.pkg.dev/colab-wheels/public/simple/\n",
            "Requirement already satisfied: py3Dmol in /usr/local/lib/python3.7/dist-packages (1.8.1)\n"
          ]
        }
      ]
    },
    {
      "cell_type": "code",
      "source": [
        "view = py3.view()\n",
        "mol2 = mol2s[6]\n",
        "view.addModel(open(mol2, 'r').read(),'mol2')\n",
        "print(mol2)\n",
        "view.setBackgroundColor('black')\n",
        "view.setStyle({'stick': {'radius': .1}, 'sphere': {'scale': 0.25}})\n",
        "view.zoomTo()\n",
        "view.show()"
      ],
      "metadata": {
        "colab": {
          "base_uri": "https://localhost:8080/",
          "height": 514
        },
        "id": "T3obO2MleIoR",
        "outputId": "52cb6700-3e03-4b87-a573-96db00644c9a"
      },
      "id": "T3obO2MleIoR",
      "execution_count": 74,
      "outputs": [
        {
          "output_type": "stream",
          "name": "stdout",
          "text": [
            "/content/drive/MyDrive/Huckel/structures/11DIETHYL22CYANINE-new.mol2\n"
          ]
        },
        {
          "output_type": "display_data",
          "data": {
            "application/3dmoljs_load.v0": "<div id=\"3dmolviewer_16681200297902997\"  style=\"position: relative; width: 640px; height: 480px\">\n        <p id=\"3dmolwarning_16681200297902997\" style=\"background-color:#ffcccc;color:black\">You appear to be running in JupyterLab (or JavaScript failed to load for some other reason).  You need to install the 3dmol extension: <br>\n        <tt>jupyter labextension install jupyterlab_3dmol</tt></p>\n        </div>\n<script>\n\nvar loadScriptAsync = function(uri){\n  return new Promise((resolve, reject) => {\n    var tag = document.createElement('script');\n    tag.src = uri;\n    tag.async = true;\n    tag.onload = () => {\n      resolve();\n    };\n  var firstScriptTag = document.getElementsByTagName('script')[0];\n  firstScriptTag.parentNode.insertBefore(tag, firstScriptTag);\n});\n};\n\nif(typeof $3Dmolpromise === 'undefined') {\n$3Dmolpromise = null;\n  $3Dmolpromise = loadScriptAsync('https://cdn.jsdelivr.net/npm/3dmol@latest/build/3Dmol-min.min.js');\n}\n\nvar viewer_16681200297902997 = null;\nvar warn = document.getElementById(\"3dmolwarning_16681200297902997\");\nif(warn) {\n    warn.parentNode.removeChild(warn);\n}\n$3Dmolpromise.then(function() {\nviewer_16681200297902997 = $3Dmol.createViewer($(\"#3dmolviewer_16681200297902997\"),{backgroundColor:\"white\"});\nviewer_16681200297902997.zoomTo();\n\tviewer_16681200297902997.addModel(\"# Molecule Name\\n# Created by GaussView 6.0.16\\n#\\n\\n#\\n#\\n\\n@<TRIPOS>MOLECULE\\nMolecule Name\\n48 51\\nSMALL\\nNO_CHARGES\\n\\n\\n@<TRIPOS>ATOM\\n1 N1     0.1274     2.3859    -0.7786 N\\n2 C2     0.1767     1.2442    -0.1542 C\\n3 C3    -0.0407     1.1671     1.3644 C\\n4 C4    -0.2958     2.2949     2.0520 C\\n5 C5    -0.3665     3.6226     1.2918 C\\n6 C6    -0.1571     3.6406    -0.0479 C\\n7 C7    -0.2156     4.9812    -0.8056 C\\n8 C8    -0.4822     6.1266    -0.1350 C\\n9 C9    -0.7293     6.0956     1.3829 C\\n10 C10    -0.6726     4.9240     2.0533 C\\n11 H11     0.0101     0.2236     1.8666 H\\n12 H12    -0.4477     2.2627     3.1100 H\\n13 H13    -0.8397     4.8998     3.1071 H\\n14 H14    -0.9454     7.0015     1.9061 H\\n15 H15    -0.5216     7.0574    -0.6595 H\\n16 H16    -0.0461     5.0064    -1.8620 H\\n17 H17    -0.0174    -5.0100    -1.9355 H\\n18 C18    -0.1391    -4.9659    -0.8751 C\\n19 C19    -0.5633    -6.0593    -0.2007 C\\n20 C20    -0.7301    -6.0082     1.3267 C\\n21 C21    -0.4910    -4.8600     1.9935 C\\n22 C22    -0.0514    -3.5992     1.2274 C\\n23 C23     0.1769    -3.6591    -0.1144 C\\n24 N24     0.7422    -2.5143    -0.8751 N\\n25 C25     0.4950    -1.2198    -0.2051 C\\n26 C26     0.3027    -1.1517     1.3130 C\\n27 C27     0.1012    -2.2845     1.9977 C\\n28 H28    -0.7812    -6.9635    -0.7278 H\\n29 H29    -1.0394    -6.8799     1.8581 H\\n30 H30    -0.6150    -4.8221     3.0564 H\\n31 H31     0.0262    -2.2682     3.0634 H\\n32 H32     0.3193    -0.2095     1.8197 H\\n33 C33     0.4494    -0.0665    -0.9180 C\\n34 C34     0.1399    -2.4934    -2.2173 C\\n35 H35    -0.9145    -2.3443    -2.1349 H\\n36 H36     0.5705    -1.6976    -2.7879 H\\n37 C37     0.4168    -3.8374    -2.9160 C\\n38 H38    -0.0125    -4.6304    -2.3419 H\\n39 H39     1.4716    -3.9874    -2.9951 H\\n40 H40    -0.0169    -3.8279    -3.8923 H\\n41 C41     0.3547     2.4290    -2.2302 C\\n42 H42     1.0209     1.6409    -2.5092 H\\n43 H43    -0.5801     2.3052    -2.7419 H\\n44 C44     0.9773     3.7904    -2.6121 C\\n45 H45     1.9113     3.9141    -2.0974 H\\n46 H46     0.3064     4.5796    -2.3335 H\\n47 H47     1.1459     3.8226    -3.6680 H\\n48 H48     0.5970    -0.0677    -1.9751 H\\n@<TRIPOS>BOND\\n1 1 2 2\\n2 1 6 1\\n3 1 41 1\\n4 2 3 1\\n5 2 33 1\\n6 3 4 2\\n7 3 11 1\\n8 4 5 1\\n9 4 12 1\\n10 5 6 2\\n11 5 10 1\\n12 6 7 1\\n13 7 8 2\\n14 7 16 1\\n15 8 9 1\\n16 8 15 1\\n17 9 10 2\\n18 9 14 1\\n19 10 13 1\\n20 17 18 1\\n21 18 19 2\\n22 18 23 1\\n23 19 20 1\\n24 19 28 1\\n25 20 21 2\\n26 20 29 1\\n27 21 22 1\\n28 21 30 1\\n29 22 23 2\\n30 22 27 1\\n31 23 24 1\\n32 24 25 1\\n33 24 34 1\\n34 25 26 1\\n35 25 33 2\\n36 26 27 2\\n37 26 32 1\\n38 27 31 1\\n39 33 48 1\\n40 34 35 1\\n41 34 36 1\\n42 34 37 1\\n43 37 38 1\\n44 37 39 1\\n45 37 40 1\\n46 41 42 1\\n47 41 43 1\\n48 41 44 1\\n49 44 45 1\\n50 44 46 1\\n51 44 47 1\\n\\n\",\"mol2\");\n\tviewer_16681200297902997.setBackgroundColor(\"black\");\n\tviewer_16681200297902997.setStyle({\"stick\": {\"radius\": 0.1}, \"sphere\": {\"scale\": 0.25}});\n\tviewer_16681200297902997.zoomTo();\nviewer_16681200297902997.render();\n});\n</script>",
            "text/html": [
              "<div id=\"3dmolviewer_16681200297902997\"  style=\"position: relative; width: 640px; height: 480px\">\n",
              "        <p id=\"3dmolwarning_16681200297902997\" style=\"background-color:#ffcccc;color:black\">You appear to be running in JupyterLab (or JavaScript failed to load for some other reason).  You need to install the 3dmol extension: <br>\n",
              "        <tt>jupyter labextension install jupyterlab_3dmol</tt></p>\n",
              "        </div>\n",
              "<script>\n",
              "\n",
              "var loadScriptAsync = function(uri){\n",
              "  return new Promise((resolve, reject) => {\n",
              "    var tag = document.createElement('script');\n",
              "    tag.src = uri;\n",
              "    tag.async = true;\n",
              "    tag.onload = () => {\n",
              "      resolve();\n",
              "    };\n",
              "  var firstScriptTag = document.getElementsByTagName('script')[0];\n",
              "  firstScriptTag.parentNode.insertBefore(tag, firstScriptTag);\n",
              "});\n",
              "};\n",
              "\n",
              "if(typeof $3Dmolpromise === 'undefined') {\n",
              "$3Dmolpromise = null;\n",
              "  $3Dmolpromise = loadScriptAsync('https://cdn.jsdelivr.net/npm/3dmol@latest/build/3Dmol-min.min.js');\n",
              "}\n",
              "\n",
              "var viewer_16681200297902997 = null;\n",
              "var warn = document.getElementById(\"3dmolwarning_16681200297902997\");\n",
              "if(warn) {\n",
              "    warn.parentNode.removeChild(warn);\n",
              "}\n",
              "$3Dmolpromise.then(function() {\n",
              "viewer_16681200297902997 = $3Dmol.createViewer($(\"#3dmolviewer_16681200297902997\"),{backgroundColor:\"white\"});\n",
              "viewer_16681200297902997.zoomTo();\n",
              "\tviewer_16681200297902997.addModel(\"# Molecule Name\\n# Created by GaussView 6.0.16\\n#\\n\\n#\\n#\\n\\n@<TRIPOS>MOLECULE\\nMolecule Name\\n48 51\\nSMALL\\nNO_CHARGES\\n\\n\\n@<TRIPOS>ATOM\\n1 N1     0.1274     2.3859    -0.7786 N\\n2 C2     0.1767     1.2442    -0.1542 C\\n3 C3    -0.0407     1.1671     1.3644 C\\n4 C4    -0.2958     2.2949     2.0520 C\\n5 C5    -0.3665     3.6226     1.2918 C\\n6 C6    -0.1571     3.6406    -0.0479 C\\n7 C7    -0.2156     4.9812    -0.8056 C\\n8 C8    -0.4822     6.1266    -0.1350 C\\n9 C9    -0.7293     6.0956     1.3829 C\\n10 C10    -0.6726     4.9240     2.0533 C\\n11 H11     0.0101     0.2236     1.8666 H\\n12 H12    -0.4477     2.2627     3.1100 H\\n13 H13    -0.8397     4.8998     3.1071 H\\n14 H14    -0.9454     7.0015     1.9061 H\\n15 H15    -0.5216     7.0574    -0.6595 H\\n16 H16    -0.0461     5.0064    -1.8620 H\\n17 H17    -0.0174    -5.0100    -1.9355 H\\n18 C18    -0.1391    -4.9659    -0.8751 C\\n19 C19    -0.5633    -6.0593    -0.2007 C\\n20 C20    -0.7301    -6.0082     1.3267 C\\n21 C21    -0.4910    -4.8600     1.9935 C\\n22 C22    -0.0514    -3.5992     1.2274 C\\n23 C23     0.1769    -3.6591    -0.1144 C\\n24 N24     0.7422    -2.5143    -0.8751 N\\n25 C25     0.4950    -1.2198    -0.2051 C\\n26 C26     0.3027    -1.1517     1.3130 C\\n27 C27     0.1012    -2.2845     1.9977 C\\n28 H28    -0.7812    -6.9635    -0.7278 H\\n29 H29    -1.0394    -6.8799     1.8581 H\\n30 H30    -0.6150    -4.8221     3.0564 H\\n31 H31     0.0262    -2.2682     3.0634 H\\n32 H32     0.3193    -0.2095     1.8197 H\\n33 C33     0.4494    -0.0665    -0.9180 C\\n34 C34     0.1399    -2.4934    -2.2173 C\\n35 H35    -0.9145    -2.3443    -2.1349 H\\n36 H36     0.5705    -1.6976    -2.7879 H\\n37 C37     0.4168    -3.8374    -2.9160 C\\n38 H38    -0.0125    -4.6304    -2.3419 H\\n39 H39     1.4716    -3.9874    -2.9951 H\\n40 H40    -0.0169    -3.8279    -3.8923 H\\n41 C41     0.3547     2.4290    -2.2302 C\\n42 H42     1.0209     1.6409    -2.5092 H\\n43 H43    -0.5801     2.3052    -2.7419 H\\n44 C44     0.9773     3.7904    -2.6121 C\\n45 H45     1.9113     3.9141    -2.0974 H\\n46 H46     0.3064     4.5796    -2.3335 H\\n47 H47     1.1459     3.8226    -3.6680 H\\n48 H48     0.5970    -0.0677    -1.9751 H\\n@<TRIPOS>BOND\\n1 1 2 2\\n2 1 6 1\\n3 1 41 1\\n4 2 3 1\\n5 2 33 1\\n6 3 4 2\\n7 3 11 1\\n8 4 5 1\\n9 4 12 1\\n10 5 6 2\\n11 5 10 1\\n12 6 7 1\\n13 7 8 2\\n14 7 16 1\\n15 8 9 1\\n16 8 15 1\\n17 9 10 2\\n18 9 14 1\\n19 10 13 1\\n20 17 18 1\\n21 18 19 2\\n22 18 23 1\\n23 19 20 1\\n24 19 28 1\\n25 20 21 2\\n26 20 29 1\\n27 21 22 1\\n28 21 30 1\\n29 22 23 2\\n30 22 27 1\\n31 23 24 1\\n32 24 25 1\\n33 24 34 1\\n34 25 26 1\\n35 25 33 2\\n36 26 27 2\\n37 26 32 1\\n38 27 31 1\\n39 33 48 1\\n40 34 35 1\\n41 34 36 1\\n42 34 37 1\\n43 37 38 1\\n44 37 39 1\\n45 37 40 1\\n46 41 42 1\\n47 41 43 1\\n48 41 44 1\\n49 44 45 1\\n50 44 46 1\\n51 44 47 1\\n\\n\",\"mol2\");\n",
              "\tviewer_16681200297902997.setBackgroundColor(\"black\");\n",
              "\tviewer_16681200297902997.setStyle({\"stick\": {\"radius\": 0.1}, \"sphere\": {\"scale\": 0.25}});\n",
              "\tviewer_16681200297902997.zoomTo();\n",
              "viewer_16681200297902997.render();\n",
              "});\n",
              "</script>"
            ]
          },
          "metadata": {}
        }
      ]
    },
    {
      "cell_type": "markdown",
      "source": [
        "The cell below contains helper functions that we will use to complete the calculations.\n",
        "\n",
        "get_matrix(mol2_fn)\\\n",
        "Will take a string that points to a mol2 file, then parse it to build the overlap matrix.  The output will be this matrix, the number of pi electrons, and the number of MOs\n",
        "returns mol2_name, matrix, ele_num, orbs\n",
        "\n",
        "analyze_matrix(mol2_name, matrix, ele_num, orbs)\\\n",
        "Takes the output of get_matrix() and analyzes it to determine the HOMO and LUMO, as well as the orbital energies.\n",
        "returns xs, ys\n",
        "\n",
        "plot_data(title, xs, ys, xlabel, ylabel)\\\n",
        "A helper function to plot x, y data, as well as provide a title and labels."
      ],
      "metadata": {
        "id": "Xd_U5ho0ZdDx"
      },
      "id": "Xd_U5ho0ZdDx"
    },
    {
      "cell_type": "code",
      "source": [
        "alpha=1.292              #electrostatic\n",
        "beta=-3.26934291633      #covalent\n",
        "\n",
        "\n",
        "def get_matrix(mol2_fn):\n",
        "    mol2_name = mol2_fn.split('/')[-1]\n",
        "    # #Initial Parameters\n",
        "    ele_num=0                #electrons\n",
        "    orb=0                    #orbitals\n",
        "    # alpha beta types: 1:C=C-C 2:C-N-C 3:C=N-C\n",
        "    # diagonal-alpha, alpha’=alpha + h * beta, C=C:0 C=N:2 C-N:1.5\n",
        "    # connected-beta, beta’=k*beta, C=C:1 C=N:1 C-N:0.8\n",
        "    with open(mol2_fn, 'r') as f:\n",
        "        lines = [line[:-1] if line.endswith('\\n') else line for line in f.readlines()]\n",
        "    \n",
        "    atomsec = lines[lines.index(\"@<TRIPOS>ATOM\") + 1:lines.index(\"@<TRIPOS>BOND\")]\n",
        "    atomsec = [[element for element in atom.split(' ') if element != ''] for atom in atomsec]\n",
        "    num_atoms = len(lines)\n",
        "    \n",
        "    bondsec = lines[lines.index(\"@<TRIPOS>BOND\") + 1 :]\n",
        "    if bondsec[-1] == '':\n",
        "        bondsec.pop(-1)\n",
        "    \n",
        "    bonds = []\n",
        "    for bond in bondsec:\n",
        "        bond = bond.split(' ')\n",
        "        if bond[-1] == '1':\n",
        "            bond[-1] = 'S'\n",
        "        elif bond[-1] == '2':\n",
        "            bond[-1] = 'D'\n",
        "        else:\n",
        "            bond[-1] = 'N'\n",
        "        bonds.append(bond)\n",
        "    bondsec = bonds\n",
        "    numbonds = len(bondsec)\n",
        "    #print(atomsec)\n",
        "    #print(bondsec)\n",
        "    \n",
        "    # #detect atom type, matrix dimension, diagonal element\n",
        "    typ = {}\n",
        "    dim = len(atomsec)\n",
        "    matrix = np.zeros((dim, dim))\n",
        "    for atom in atomsec:\n",
        "        atom_type = atom[-1]\n",
        "        atom_ind = int(atom[0]) - 1\n",
        "        if atom_type == 'C':\n",
        "            valence = 0 #the number of times it is listed in a bond\n",
        "            for bond in bondsec:\n",
        "                if atom[0] in bond[1:3]:\n",
        "                    valence += 1\n",
        "            if valence < 4:\n",
        "                typ[atom[0]] = 1\n",
        "                h = 0.000\n",
        "                ele_num += 1\n",
        "                orb += 1\n",
        "            else:\n",
        "                typ[atom[0]] = 0\n",
        "            \n",
        "        elif atom_type == 'N':\n",
        "            pyridine = False\n",
        "            for bond in bondsec:\n",
        "                if atom[0] in bond and 'D' in bond:\n",
        "                    pyridine = True\n",
        "            if pyridine:\n",
        "                typ[atom[0]] = 3\n",
        "                h = 2.000\n",
        "                ele_num += 1\n",
        "                orb += 1\n",
        "            else:\n",
        "                typ[atom[0]] = 2\n",
        "                h = 1.500\n",
        "                ele_num += 2 ####\n",
        "                orb += 1\n",
        "        \n",
        "        else:\n",
        "            typ[atom[0]] = 0\n",
        "            h = -1 * alpha / beta\n",
        "        \n",
        "        matrix[atom_ind, atom_ind] = alpha + h * beta\n",
        "    #print(typ)\n",
        "    #print(matrix)\n",
        "    \n",
        "    # #detect bond type, none-zero matrix element\n",
        "    for bond in bonds:\n",
        "        b1 = bond[1]\n",
        "        b2 = bond[2]\n",
        "        if typ[b1] == 0 or typ[b2] == 0:\n",
        "            k = 0.000\n",
        "        elif typ[b1] == 2 or typ[b2] == 2:\n",
        "            k = 0.800\n",
        "        else:\n",
        "            k = 1.000\n",
        "        b1_ind, b2_ind = int(b1) - 1, int(b2) - 1\n",
        "        matrix[b1_ind, b2_ind] = k * beta\n",
        "        matrix[b2_ind, b1_ind] = k * beta\n",
        "    \n",
        "    return mol2_name, matrix, ele_num, orb\n",
        "\n",
        "\n",
        "def analyze_matrix(mol2_name, matrix, ele_num, orbs):\n",
        "    print('####################################################################')\n",
        "    print(f'####  Begin Analyze {mol2_name}  ####')\n",
        "    b = np.linalg.eigvals(matrix)\n",
        "    energies = [element for element in np.sort(real(b)) if element != 0 and element != alpha]\n",
        "    \n",
        "    print(f'Num_Electrons = {ele_num}')\n",
        "    \n",
        "    base = ele_num // 2\n",
        "    \n",
        "    print()\n",
        "    print('Orbital Energies (au)')\n",
        "    \n",
        "    for i in range(len(energies)):\n",
        "        s = f'{i+1}      {energies[i]:.4f}'\n",
        "        if i+1  == base: # base is 1 indexed and i is zero\n",
        "            s = f'{i+1} HOMO {energies[i]:.4f}'\n",
        "            homo_ind = i\n",
        "        elif i+1 == base + 1:\n",
        "            s = f'{i+1} LUMO {energies[i]:.4f}'\n",
        "            lumo_ind = i\n",
        "        print(s)\n",
        "    \n",
        "    gap_energy = energies[lumo_ind] - energies[homo_ind]\n",
        "    print()\n",
        "    print(f'HOMO-LUMO Gap = {gap_energy:.5f} (au)')\n",
        "    print()\n",
        "    \n",
        "    x = np.arange(100,1601)\n",
        "    y = lambda x, gap_energy : math.sqrt(2/math.pi)/70*math.e**(-2*((x-(2.998*10**8)*10**9/((1.60217656*10**(-19))/(6.626*10**(-34)))/(gap_energy))/70)**2)\n",
        "    \n",
        "    return x, y(x, gap_energy)\n",
        "  \n",
        "def plot_data(title, xs, ys, xlabel, ylabel):\n",
        "    plt.clf()\n",
        "    plt.title(title)\n",
        "    plt.xlabel(xlabel)\n",
        "    plt.ylabel(ylabel)\n",
        "    _ = plt.plot(xs, ys)\n",
        "    plt.show()"
      ],
      "metadata": {
        "id": "biiQBFYhyU9m"
      },
      "id": "biiQBFYhyU9m",
      "execution_count": 26,
      "outputs": []
    },
    {
      "cell_type": "code",
      "source": [
        "# EXAMPLE on plotting data\n",
        "xs = np.linspace(1,100,200)\n",
        "fy = lambda x : x**2\n",
        "ys = fy(xs)\n",
        "plot_data(\"A parabola\", xs, ys, 'xlabel here', 'ylabel here')"
      ],
      "metadata": {
        "id": "Ct3WCHyNzEMn",
        "colab": {
          "base_uri": "https://localhost:8080/",
          "height": 295
        },
        "outputId": "810216ec-7948-4c26-d570-ad6046944e40"
      },
      "id": "Ct3WCHyNzEMn",
      "execution_count": 29,
      "outputs": [
        {
          "output_type": "display_data",
          "data": {
            "text/plain": [
              "<Figure size 432x288 with 1 Axes>"
            ],
            "image/png": "[encoded data removed]"
          },
          "metadata": {
            "needs_background": "light"
          }
        }
      ]
    },
    {
      "cell_type": "markdown",
      "source": [
        "### Todays Assignment\n",
        "#### Creating more cells as needed below this message\n",
        "Utilize the helper functions:\n",
        "\n",
        "get_matrix(mol2_fn)\\\n",
        "analyze_matrix(mol2_name, matrix, ele_num, orbs)\\\n",
        "plot_data(title, xs, ys, xlabel, ylabel)\n",
        "\n",
        "Using these three functions, produce the output for all mol2 files available on github.  Also provide a numerical comparison of these results with the results of the previous laboratory which utilized these dyes.  This involves determining the enery of the HOMO-LUMO gap, and determining it's wavelength in nm.  Compare this to results from previous labs in text or code cells.\n",
        "\n",
        "Note about files labelled \"new\":\\\n",
        "There are duplicates of each file, one labelled \"new\" and one that is not.  These files contain critical differences in the bond order between methylene carbons.  Those with the \"new\" tag have **alternating single and double order bonds** while those without have **aromatic - 1.5 order bonds.**  Consider them different definitions of the bond order for the purpose of the calculation, and compare those with the \"new\" tag to those without.\n",
        "\n",
        "Please submit a **pdf** copy of this notebook completely rendered with no interruption (using restart and run all).\n"
      ],
      "metadata": {
        "id": "TgkxrJ4XbnQ4"
      },
      "id": "TgkxrJ4XbnQ4"
    },
    {
      "cell_type": "code",
      "source": [
        "# I'll get you started\n",
        "\n",
        "for mol2_fn in mol2s:\n",
        "  print(mol2_fn)"
      ],
      "metadata": {
        "colab": {
          "base_uri": "https://localhost:8080/"
        },
        "id": "35zcniTAbzHj",
        "outputId": "5fc002a5-0403-479e-a17e-40ab61ee3b44"
      },
      "id": "35zcniTAbzHj",
      "execution_count": 30,
      "outputs": [
        {
          "output_type": "stream",
          "name": "stdout",
          "text": [
            "/content/drive/MyDrive/Huckel/structures/11DIETHYL44DICARBOCYANINE.mol2\n",
            "/content/drive/MyDrive/Huckel/structures/benzene.mol2\n",
            "/content/drive/MyDrive/Huckel/structures/11DIETHYL44CARBOCYANINE.mol2\n",
            "/content/drive/MyDrive/Huckel/structures/11DIETHYL22DICARBOCYANINE.mol2\n",
            "/content/drive/MyDrive/Huckel/structures/11DIETHYL22CYANINE.mol2\n",
            "/content/drive/MyDrive/Huckel/structures/benzene-test.mol2\n",
            "/content/drive/MyDrive/Huckel/structures/11DIETHYL22CYANINE-new.mol2\n",
            "/content/drive/MyDrive/Huckel/structures/11DIETHYL22DICARBOCYANINE-new.mol2\n",
            "/content/drive/MyDrive/Huckel/structures/11DIETHYL44CARBOCYANINE-new.mol2\n",
            "/content/drive/MyDrive/Huckel/structures/11DIETHYL44DICARBOCYANINE-new.mol2\n"
          ]
        }
      ]
    }
  ],
  "metadata": {
    "kernelspec": {
      "display_name": "Python 3 (ipykernel)",
      "language": "python",
      "name": "python3"
    },
    "language_info": {
      "codemirror_mode": {
        "name": "ipython",
        "version": 3
      },
      "file_extension": ".py",
      "mimetype": "text/x-python",
      "name": "python",
      "nbconvert_exporter": "python",
      "pygments_lexer": "ipython3",
      "version": "3.9.12"
    },
    "colab": {
      "provenance": [],
      "collapsed_sections": []
    }
  },
  "nbformat": 4,
  "nbformat_minor": 5
}