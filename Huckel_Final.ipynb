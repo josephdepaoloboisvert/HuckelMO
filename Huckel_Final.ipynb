{
 "cells": [
  {
   "cell_type": "markdown",
   "id": "IbMtakdKw9OV",
   "metadata": {
    "id": "IbMtakdKw9OV"
   },
   "source": [
    "# HUCKEL Molecular Orbital (HMO) Calculations\n",
    "\n",
    "CHEM344  Physical Chemistry \\\n",
    "Department of Chemistry \\\n",
    "Illinois Institute of Technology \\\n",
    "\n",
    "\n",
    "\n",
    "Original Bash Code By Jingbai Li \\\n",
    "Translated to Python by Joseph DePaolo-Boisvert \\\n",
    "HUCKELMO Version 2.0  Aug 30th 2017 \\\n",
    "Written Nov 2022; Last Updated Feb 2024 \n",
    "\n"
   ]
  },
  {
   "cell_type": "markdown",
   "id": "9c0e8a17-1a20-413e-8339-c4b1ee241ac4",
   "metadata": {},
   "source": [
    "### Basic Operations in Python\n",
    "Python can be used to perform basic mathematical operations."
   ]
  },
  {
   "cell_type": "code",
   "execution_count": null,
   "id": "cf8269e3-e30c-4dd0-8797-913553638028",
   "metadata": {},
   "outputs": [],
   "source": [
    "#Addition\n",
    "1 + 1"
   ]
  },
  {
   "cell_type": "code",
   "execution_count": null,
   "id": "987c7a79-1ae9-4530-b50a-f7e8732ab20e",
   "metadata": {},
   "outputs": [],
   "source": [
    "#Subtraction\n",
    "10 - 8"
   ]
  },
  {
   "cell_type": "code",
   "execution_count": null,
   "id": "cd7390da-c225-4555-9966-996604707aec",
   "metadata": {},
   "outputs": [],
   "source": [
    "#Multiplication\n",
    "13 * 5.1"
   ]
  },
  {
   "cell_type": "code",
   "execution_count": null,
   "id": "13cd029f-ad35-4832-8fe9-146e04a3ea30",
   "metadata": {},
   "outputs": [],
   "source": [
    "#Division\n",
    "print(77 / 10) #Float Division\n",
    "print(77 // 10) #Integer Division"
   ]
  },
  {
   "cell_type": "code",
   "execution_count": null,
   "id": "60b91c37-bb16-4092-8da6-23aeb7381008",
   "metadata": {},
   "outputs": [],
   "source": [
    "#Exponentiation\n",
    "5**3"
   ]
  },
  {
   "cell_type": "code",
   "execution_count": null,
   "id": "1215edd3-8545-464e-bd2d-cac226be91df",
   "metadata": {},
   "outputs": [],
   "source": [
    "#Modulus (Remainder of Division)\n",
    "14 % 5"
   ]
  },
  {
   "cell_type": "markdown",
   "id": "4fa15e6e-5e22-4f07-98c5-d61f8c287bf3",
   "metadata": {},
   "source": [
    "### Variables and DataTypes\n",
    "Numbers (and other types of data) can be stored in user-defined **variables**.\\\n",
    "A vairable is assigned to data using a single equals sign (=)."
   ]
  },
  {
   "cell_type": "code",
   "execution_count": null,
   "id": "053579cb-c94d-4846-9138-f263a735c2c4",
   "metadata": {},
   "outputs": [],
   "source": [
    "#Strings\n",
    "my_string = 'A string is a series of characters'\n",
    "print(my_string)"
   ]
  },
  {
   "cell_type": "markdown",
   "id": "565d4658-68ae-405b-b8b4-a8a6493c0bab",
   "metadata": {},
   "source": [
    "A double equals sign (==) will check if the two sets of data on either side are equal, returning True if they are, and False if they are not.\\\n",
    "The values True and False are called **Booleans**."
   ]
  },
  {
   "cell_type": "code",
   "execution_count": null,
   "id": "b177387b-4069-475d-99f5-2eb8103b648f",
   "metadata": {},
   "outputs": [],
   "source": [
    "#Booleans (True or False values)\n",
    "my_first_bool = 1 == 2 \n",
    "my_second_bool = 1/2 == 0.5\n",
    "print(my_first_bool, my_second_bool)"
   ]
  },
  {
   "cell_type": "markdown",
   "id": "e7a62031-785c-49be-a9f2-3b4e8374e7be",
   "metadata": {},
   "source": [
    "Lists are collections of data, they don't have to be the same type of data!"
   ]
  },
  {
   "cell_type": "code",
   "execution_count": null,
   "id": "dcf6e82d-e982-4ea6-a803-cf5ca35ebd75",
   "metadata": {},
   "outputs": [],
   "source": [
    "#Lists (A series of data)\n",
    "my_list = [182.25, 18//3, \"A string\", 3/2 == 1.5]\n",
    "my_list_types = [type(element) for element in my_list]\n",
    "print(my_list)\n",
    "print(my_list_types)"
   ]
  },
  {
   "cell_type": "markdown",
   "id": "5a4be226-15f1-401f-958f-19341d8e91bb",
   "metadata": {},
   "source": [
    "Notice that the different elements of the list (**expressions**) evaluated to their **return value** in the creation of thelist.\\\n",
    "Different elements of the list can be retrieved by a process called **indexing**.\\\n",
    "Indexing is zero-based meaning that the first value in the list is at index 0, the next at index 1, etc.\\\n",
    "Indexes are always **integers**.\\\n",
    "In the cell below, **assign the appropriate index** to the variable *my_index* so that the cell prints the **string**"
   ]
  },
  {
   "cell_type": "code",
   "execution_count": null,
   "id": "d8151c8d-0df7-47ae-96b8-b93e10c011a9",
   "metadata": {},
   "outputs": [],
   "source": [
    "my_index = #INSERT INDEX HERE#\n",
    "value = my_list[my_index]\n",
    "print(value)"
   ]
  },
  {
   "cell_type": "markdown",
   "id": "ccfb0402-fcd8-420d-b32b-7aadd2d5036c",
   "metadata": {},
   "source": [
    "Indexing can also be done with **negative integers** which count backward from the end of the list.\\\n",
    "Index -1 is the last element of the list, -2 the second to last, etc.\\\n",
    "In the cell below, **assign a negatively valued index** to *my_index* so that the cell prints the **float**"
   ]
  },
  {
   "cell_type": "code",
   "execution_count": null,
   "id": "330f3aeb-6743-4b85-9824-9f298a8a8d31",
   "metadata": {},
   "outputs": [],
   "source": [
    "my_index = #INSERT INDEX HERE#\n",
    "value = my_list[my_index]\n",
    "print(value)"
   ]
  },
  {
   "cell_type": "markdown",
   "id": "012412f2-b50b-43c7-8b2b-52b2da4cb621",
   "metadata": {},
   "source": [
    "### For loops and While loops\n",
    "**Loops** will iterate over a collection of values, such as a list. \\\n",
    "A **For Loop** will iterate a value over a predefined set."
   ]
  },
  {
   "cell_type": "code",
   "execution_count": null,
   "id": "a1db2860-b23d-4da7-b1f7-aa80cec5bab0",
   "metadata": {},
   "outputs": [],
   "source": [
    "print(my_list)\n",
    "for element in my_list:\n",
    "    print(element)"
   ]
  },
  {
   "cell_type": "markdown",
   "id": "fa6dd171-67b9-4eee-a63a-42b146fc79aa",
   "metadata": {},
   "source": [
    "In the cell below, write your own **For loop** which iterates over the given list of **integers**. \\\n",
    "Within the loop, square each value, and then print the result."
   ]
  },
  {
   "cell_type": "code",
   "execution_count": null,
   "id": "2777fe7f-d97c-4cf9-83da-b9edea09a610",
   "metadata": {},
   "outputs": [],
   "source": [
    "given_list = [1, 2, 3, 4, 5, 6, 7, 8, 9]\n",
    "#Write your FOR LOOP here"
   ]
  },
  {
   "cell_type": "markdown",
   "id": "f77f102c-be6c-4632-9514-fbc5c51aa3eb",
   "metadata": {},
   "source": [
    "A **While Loop** will continue to interate until the Boolean condition defining the loop evaluates to **False**"
   ]
  },
  {
   "cell_type": "code",
   "execution_count": null,
   "id": "649154ef-3a46-4528-8bcc-efd7339d1d7c",
   "metadata": {},
   "outputs": [],
   "source": [
    "i = 1\n",
    "while i <= 10:\n",
    "    print(i)\n",
    "    i = i + 1"
   ]
  },
  {
   "cell_type": "markdown",
   "id": "5e0a4933-9769-4645-8ebd-92ad84305981",
   "metadata": {},
   "source": [
    "In the cell below, write your own **While loop**. \\\n",
    "From an an initial value *i*, square the value, print the result, and increase the value of *i* by one. \\\n",
    "Continue to iterate the loop until the squared value of *i* is greater than 50. \\\n",
    "If done correctly, only values below 50 should be printed. \\\n",
    "An initial value of the iterable *i* is provided."
   ]
  },
  {
   "cell_type": "code",
   "execution_count": null,
   "id": "840ed5eb-1743-412e-8bdf-57c743d44166",
   "metadata": {},
   "outputs": [],
   "source": [
    "i = 0\n",
    "#Write your while loop here"
   ]
  },
  {
   "cell_type": "markdown",
   "id": "5ce7b676-4b0a-4448-af1d-15c70b43947c",
   "metadata": {},
   "source": [
    "### Functions\n",
    "A **function** is a predifined code that will execute the code within the function. \\\n",
    "A function takes one or more **arguments** and evaluates to it's **return value**. \\\n",
    "Below is an example of a function which takes as input two arguments. \\\n",
    "The function will multiply the first argument by 3, take the square root, and get the modulus against the second argument."
   ]
  },
  {
   "cell_type": "code",
   "execution_count": null,
   "id": "ee0a43e5-1429-4249-bc33-5ba4d4f7368a",
   "metadata": {},
   "outputs": [],
   "source": [
    "def example_1(foo, bar):\n",
    "    value = foo*3\n",
    "    value = value**(1/2)\n",
    "    value = value % bar\n",
    "    return value"
   ]
  },
  {
   "cell_type": "markdown",
   "id": "dc8e9f3b-e273-4413-aa1a-1d209e7e469a",
   "metadata": {},
   "source": [
    "Notice that the above cell produces no output.  This is because it is the definition of a function, but the function must be **called**."
   ]
  },
  {
   "cell_type": "code",
   "execution_count": null,
   "id": "600e1683-0610-422d-b091-2bc31bd86637",
   "metadata": {},
   "outputs": [],
   "source": [
    "my_value = example_1(27, 5)\n",
    "print(my_value)"
   ]
  },
  {
   "cell_type": "markdown",
   "id": "523ff190-5b8e-4ba8-80b5-c4c9e230d21e",
   "metadata": {},
   "source": [
    "Use the cell below to **write your own function**, which takes 3 arguments as input.\n",
    "The function should raise the first argument to the power of the second argument, and divide the resulting value by the third argument."
   ]
  },
  {
   "cell_type": "code",
   "execution_count": null,
   "id": "fad783d6-f076-4e11-b7c9-936b7fb67a37",
   "metadata": {},
   "outputs": [],
   "source": [
    "#WRITE YOUR FUNCTION HERE"
   ]
  },
  {
   "cell_type": "code",
   "execution_count": null,
   "id": "9e19ffa0-30db-4205-87c1-97021a0ab27b",
   "metadata": {},
   "outputs": [],
   "source": [
    "#CALL YOUR FUNCTION HERE"
   ]
  },
  {
   "cell_type": "markdown",
   "id": "5823ff38-fa1b-4d85-9aa7-83472c6da9be",
   "metadata": {},
   "source": [
    "A **lambda function** is a shorthand function useful for mathematical operations. \\\n",
    "The lambda function below will take two arguments, multiplying the first by two and dividing by the second."
   ]
  },
  {
   "cell_type": "code",
   "execution_count": null,
   "id": "6f7a07ba-b266-489e-8ab7-814a501d6de4",
   "metadata": {},
   "outputs": [],
   "source": [
    "lam_fun = lambda x, y : (2*x)/y"
   ]
  },
  {
   "cell_type": "code",
   "execution_count": null,
   "id": "25b8f136-e24e-4da6-896d-91989cc2e031",
   "metadata": {},
   "outputs": [],
   "source": [
    "z = lam_fun(15, 3)\n",
    "print(z)"
   ]
  },
  {
   "cell_type": "markdown",
   "id": "dcbd5884-6e99-468e-b4f0-3998daf57271",
   "metadata": {},
   "source": [
    "### Packages\n",
    "Python **packages (modules)** are collections of code that have additional functionality.\\\n",
    "The power of python lies in the ability to create, distribute, and **import** modules."
   ]
  },
  {
   "cell_type": "code",
   "execution_count": null,
   "id": "5PczdqsYXWaL",
   "metadata": {
    "id": "5PczdqsYXWaL"
   },
   "outputs": [],
   "source": [
    "import numpy as np\n",
    "from numpy import real\n",
    "import glob\n",
    "import math\n",
    "import matplotlib.pyplot as plt\n",
    "%matplotlib inline"
   ]
  },
  {
   "cell_type": "markdown",
   "id": "3qFD3eETYcL7",
   "metadata": {
    "id": "3qFD3eETYcL7"
   },
   "source": [
    "Some Example Calculations using numpy arrays"
   ]
  },
  {
   "cell_type": "code",
   "execution_count": null,
   "id": "l7-P1e-2YgJI",
   "metadata": {
    "colab": {
     "base_uri": "https://localhost:8080/"
    },
    "id": "l7-P1e-2YgJI",
    "outputId": "b995afd0-c5aa-4982-b948-027018f6c0cc"
   },
   "outputs": [],
   "source": [
    "a = np.arange(1,9)\n",
    "b = np.arange(15,23)\n",
    "print(a,b)"
   ]
  },
  {
   "cell_type": "code",
   "execution_count": null,
   "id": "Z2wHak5hYgSZ",
   "metadata": {
    "colab": {
     "base_uri": "https://localhost:8080/"
    },
    "id": "Z2wHak5hYgSZ",
    "outputId": "2bba12fb-c627-4243-a64c-cd7e14e997dc"
   },
   "outputs": [],
   "source": [
    "#Vector Operations\n",
    "print(a+b)\n",
    "print(b-a)\n",
    "print(a*b)\n",
    "print(b/a)"
   ]
  },
  {
   "cell_type": "code",
   "execution_count": null,
   "id": "slLcej-RYgat",
   "metadata": {
    "colab": {
     "base_uri": "https://localhost:8080/"
    },
    "id": "slLcej-RYgat",
    "outputId": "5a91ef9a-c7c5-4ace-9676-b2bc6b148b3c"
   },
   "outputs": [],
   "source": [
    "a, b = a.reshape((2,4)), b.reshape((2, 4))\n",
    "print(a)\n",
    "print(b)\n",
    "#Try running the cell above"
   ]
  },
  {
   "cell_type": "markdown",
   "id": "yHByKaonYIda",
   "metadata": {
    "id": "yHByKaonYIda"
   },
   "source": [
    "## Molecular Orbitals Calculation\n",
    "\n",
    "The cell below will mount your google drive, making files from drive accessible.\n",
    "Specify your directory on drive that contains the input structures from github, if you do not see the structures files listed below (output 3 cells below) raise your hand."
   ]
  },
  {
   "cell_type": "code",
   "execution_count": null,
   "id": "1359c508-b643-4130-a19d-e0e7b9deee20",
   "metadata": {},
   "outputs": [],
   "source": [
    "from IPython.testing import test\n",
    "from google.colab import drive\n",
    "drive.mount('/content/drive')"
   ]
  },
  {
   "cell_type": "code",
   "execution_count": null,
   "id": "Lc0CpPphKNFQ",
   "metadata": {
    "colab": {
     "base_uri": "https://localhost:8080/"
    },
    "id": "Lc0CpPphKNFQ",
    "outputId": "bea6045c-c1e9-4859-f120-884a2c96c1b6"
   },
   "outputs": [],
   "source": [
    "##################################################################\n",
    "structures_dir = '/content/drive/MyDrive/Huckel/structures/'###### CHANGE ME\n",
    "################################################################## WITH TRAILING SLASH"
   ]
  },
  {
   "cell_type": "code",
   "execution_count": null,
   "id": "A8IBqDS3XKza",
   "metadata": {
    "colab": {
     "base_uri": "https://localhost:8080/"
    },
    "id": "A8IBqDS3XKza",
    "outputId": "9098746a-6d1f-47fb-cadd-fab582dfaa25"
   },
   "outputs": [],
   "source": [
    "mol2s = glob.glob(f'{structures_dir}*.mol2')\n",
    "print(mol2s)"
   ]
  },
  {
   "cell_type": "code",
   "execution_count": null,
   "id": "tSU1-f4IdzE9",
   "metadata": {
    "colab": {
     "base_uri": "https://localhost:8080/"
    },
    "id": "tSU1-f4IdzE9",
    "outputId": "eceb2350-3da2-447d-c8e0-70a054f756e7"
   },
   "outputs": [],
   "source": [
    "#Installing py3Dmol using pip\n",
    "!pip install py3Dmol"
   ]
  },
  {
   "cell_type": "code",
   "execution_count": null,
   "id": "T3obO2MleIoR",
   "metadata": {
    "colab": {
     "base_uri": "https://localhost:8080/",
     "height": 514
    },
    "id": "T3obO2MleIoR",
    "outputId": "52cb6700-3e03-4b87-a573-96db00644c9a"
   },
   "outputs": [],
   "source": [
    "import py3Dmol as py3\n",
    "\n",
    "index_of_mol2s_list = 6\n",
    "\n",
    "view = py3.view()\n",
    "mol2 = mol2s[index_of_mol2s_list]\n",
    "view.addModel(open(mol2, 'r').read(),'mol2')\n",
    "print(mol2)\n",
    "view.setBackgroundColor('black')\n",
    "view.setStyle({'stick': {'radius': .1}, 'sphere': {'scale': 0.25}})\n",
    "view.zoomTo()\n",
    "view.show()"
   ]
  },
  {
   "cell_type": "markdown",
   "id": "Xd_U5ho0ZdDx",
   "metadata": {
    "id": "Xd_U5ho0ZdDx"
   },
   "source": [
    "The cell below defines helper functions that we will use to complete the calculations.\n",
    "\n",
    "**get_matrix(mol2_fn)** \\\n",
    "Will take a string that points to a mol2 file, then parse it to build the overlap matrix.  The output will be this matrix, the number of pi electrons, and the number of MOs\\\n",
    "returns (mol2_name, matrix, ele_num, orbs)\n",
    "\n",
    "**analyze_matrix(mol2_name, matrix, ele_num, orbs)** \\\n",
    "Takes the output of get_matrix() and analyzes it to determine the HOMO and LUMO, as well as the orbital energies.\\\n",
    "returns xs, ys\n",
    "\n",
    "**plot_data(title, xs, ys, xlabel, ylabel)** \\\n",
    "Plots x, y data, as well as provide a title and labels.\n",
    "\n",
    "\n",
    "Don't worry about understanding the contents of each function.  It is written only to help you do the experiment. \\\n",
    "Simply **call the provided functions** in order to generate the results."
   ]
  },
  {
   "cell_type": "code",
   "execution_count": null,
   "id": "biiQBFYhyU9m",
   "metadata": {
    "id": "biiQBFYhyU9m"
   },
   "outputs": [],
   "source": [
    "alpha=1.292              #electrostatic\n",
    "beta=-3.26934291633      #covalent\n",
    "\n",
    "\n",
    "def get_matrix(mol2_fn):\n",
    "    mol2_name = mol2_fn.split('/')[-1]\n",
    "    # #Initial Parameters\n",
    "    ele_num=0                #electrons\n",
    "    orb=0                    #orbitals\n",
    "    # alpha beta types: 1:C=C-C 2:C-N-C 3:C=N-C\n",
    "    # diagonal-alpha, alpha’=alpha + h * beta, C=C:0 C=N:2 C-N:1.5\n",
    "    # connected-beta, beta’=k*beta, C=C:1 C=N:1 C-N:0.8\n",
    "    with open(mol2_fn, 'r') as f:\n",
    "        lines = [line[:-1] if line.endswith('\\n') else line for line in f.readlines()]\n",
    "    \n",
    "    atomsec = lines[lines.index(\"@<TRIPOS>ATOM\") + 1:lines.index(\"@<TRIPOS>BOND\")]\n",
    "    atomsec = [[element for element in atom.split(' ') if element != ''] for atom in atomsec]\n",
    "    num_atoms = len(lines)\n",
    "    \n",
    "    bondsec = lines[lines.index(\"@<TRIPOS>BOND\") + 1 :]\n",
    "    if bondsec[-1] == '':\n",
    "        bondsec.pop(-1)\n",
    "    \n",
    "    bonds = []\n",
    "    for bond in bondsec:\n",
    "        bond = bond.split(' ')\n",
    "        if bond[-1] == '1':\n",
    "            bond[-1] = 'S'\n",
    "        elif bond[-1] == '2':\n",
    "            bond[-1] = 'D'\n",
    "        else:\n",
    "            bond[-1] = 'N'\n",
    "        bonds.append(bond)\n",
    "    bondsec = bonds\n",
    "    numbonds = len(bondsec)\n",
    "    #print(atomsec)\n",
    "    #print(bondsec)\n",
    "    \n",
    "    # #detect atom type, matrix dimension, diagonal element\n",
    "    typ = {}\n",
    "    dim = len(atomsec)\n",
    "    matrix = np.zeros((dim, dim))\n",
    "    for atom in atomsec:\n",
    "        atom_type = atom[-1]\n",
    "        atom_ind = int(atom[0]) - 1\n",
    "        if atom_type == 'C':\n",
    "            valence = 0 #the number of times it is listed in a bond\n",
    "            for bond in bondsec:\n",
    "                if atom[0] in bond[1:3]:\n",
    "                    valence += 1\n",
    "            if valence < 4:\n",
    "                typ[atom[0]] = 1\n",
    "                h = 0.000\n",
    "                ele_num += 1\n",
    "                orb += 1\n",
    "            else:\n",
    "                typ[atom[0]] = 0\n",
    "            \n",
    "        elif atom_type == 'N':\n",
    "            pyridine = False\n",
    "            for bond in bondsec:\n",
    "                if atom[0] in bond and 'D' in bond:\n",
    "                    pyridine = True\n",
    "            if pyridine:\n",
    "                typ[atom[0]] = 3\n",
    "                h = 2.000\n",
    "                ele_num += 1\n",
    "                orb += 1\n",
    "            else:\n",
    "                typ[atom[0]] = 2\n",
    "                h = 1.500\n",
    "                ele_num += 2 ####\n",
    "                orb += 1\n",
    "        \n",
    "        else:\n",
    "            typ[atom[0]] = 0\n",
    "            h = -1 * alpha / beta\n",
    "        \n",
    "        matrix[atom_ind, atom_ind] = alpha + h * beta\n",
    "    #print(typ)\n",
    "    #print(matrix)\n",
    "    \n",
    "    # #detect bond type, none-zero matrix element\n",
    "    for bond in bonds:\n",
    "        b1 = bond[1]\n",
    "        b2 = bond[2]\n",
    "        if typ[b1] == 0 or typ[b2] == 0:\n",
    "            k = 0.000\n",
    "        elif typ[b1] == 2 or typ[b2] == 2:\n",
    "            k = 0.800\n",
    "        else:\n",
    "            k = 1.000\n",
    "        b1_ind, b2_ind = int(b1) - 1, int(b2) - 1\n",
    "        matrix[b1_ind, b2_ind] = k * beta\n",
    "        matrix[b2_ind, b1_ind] = k * beta\n",
    "    \n",
    "    return mol2_name, matrix, ele_num, orb\n",
    "\n",
    "\n",
    "def analyze_matrix(mol2_name, matrix, ele_num, orbs):\n",
    "    print('####################################################################')\n",
    "    print(f'####  Begin Analyze {mol2_name}  ####')\n",
    "    b = np.linalg.eigvals(matrix)\n",
    "    energies = [element for element in np.sort(real(b)) if element != 0 and element != alpha]\n",
    "    \n",
    "    print(f'Num_Electrons = {ele_num}')\n",
    "    \n",
    "    base = ele_num // 2\n",
    "    \n",
    "    print()\n",
    "    print('Orbital Energies (au)')\n",
    "    \n",
    "    for i in range(len(energies)):\n",
    "        s = f'{i+1}      {energies[i]:.4f}'\n",
    "        if i+1  == base: # base is 1 indexed and i is zero\n",
    "            s = f'{i+1} HOMO {energies[i]:.4f}'\n",
    "            homo_ind = i\n",
    "        elif i+1 == base + 1:\n",
    "            s = f'{i+1} LUMO {energies[i]:.4f}'\n",
    "            lumo_ind = i\n",
    "        print(s)\n",
    "    \n",
    "    gap_energy = energies[lumo_ind] - energies[homo_ind]\n",
    "    print()\n",
    "    print(f'HOMO-LUMO Gap = {gap_energy:.5f} (au)')\n",
    "    print()\n",
    "    \n",
    "    x = np.arange(100,1601)\n",
    "    y = lambda x, gap_energy : math.sqrt(2/math.pi)/70*math.e**(-2*((x-(2.998*10**8)*10**9/((1.60217656*10**(-19))/(6.626*10**(-34)))/(gap_energy))/70)**2)\n",
    "    \n",
    "    return x, y(x, gap_energy)\n",
    "  \n",
    "def plot_data(title, xs, ys, xlabel, ylabel):\n",
    "    plt.clf()\n",
    "    plt.title(title)\n",
    "    plt.xlabel(xlabel)\n",
    "    plt.ylabel(ylabel)\n",
    "    _ = plt.plot(xs, ys)\n",
    "    plt.show()"
   ]
  },
  {
   "cell_type": "code",
   "execution_count": null,
   "id": "Ct3WCHyNzEMn",
   "metadata": {
    "colab": {
     "base_uri": "https://localhost:8080/",
     "height": 295
    },
    "id": "Ct3WCHyNzEMn",
    "outputId": "810216ec-7948-4c26-d570-ad6046944e40"
   },
   "outputs": [],
   "source": [
    "# EXAMPLE on plotting data\n",
    "xs = np.linspace(-100,100,200)\n",
    "fy = lambda x : x**2\n",
    "ys = fy(xs)\n",
    "plot_data(\"A parabola\", xs, ys, 'xlabel here', 'ylabel here')"
   ]
  },
  {
   "cell_type": "markdown",
   "id": "TgkxrJ4XbnQ4",
   "metadata": {
    "id": "TgkxrJ4XbnQ4"
   },
   "source": [
    "### Todays Assignment\n",
    "#### Creating more cells as needed below this message\n",
    "Utilize the helper functions:\n",
    "\n",
    "get_matrix(mol2_fn)\\\n",
    "analyze_matrix(mol2_name, matrix, ele_num, orbs)\\\n",
    "plot_data(title, xs, ys, xlabel, ylabel)\n",
    "\n",
    "Using these three functions, produce the output for all mol2 files available on github. \n",
    "\n",
    "Note about files labelled \"new\":\\\n",
    "There are duplicates of each file, one labelled \"new\" and one that is not.  These files contain critical differences in the bond order between methylene carbons.  Those with the \"new\" tag have **alternating single and double order bonds** while those without have **aromatic - 1.5 order bonds.**  Consider them different definitions of the bond order for the purpose of the calculation, and compare those with the \"new\" tag to those without.\n",
    "\n",
    "Please submit a **pdf** copy of this notebook completely rendered with no interruption (using restart and run all).\n",
    "\n",
    "**Since we have not done the Dyes Lab yet, you are not expected to do the below. \\\n",
    "Do however retain these results, in order to make these comparisons during the Wet Experiment** \n",
    "\n",
    "\n",
    "Also provide a numerical comparison of these results with the results of the previous laboratory which utilized these dyes. \\\n",
    "This involves determining the enery of the HOMO-LUMO gap, and determining it's wavelength in nm. \\\n",
    "Compare this to results from previous labs in text or code cells."
   ]
  },
  {
   "cell_type": "code",
   "execution_count": null,
   "id": "35zcniTAbzHj",
   "metadata": {
    "colab": {
     "base_uri": "https://localhost:8080/"
    },
    "id": "35zcniTAbzHj",
    "outputId": "5fc002a5-0403-479e-a17e-40ab61ee3b44"
   },
   "outputs": [],
   "source": [
    "# Write code to perform the above assignment in one or more cells here"
   ]
  }
 ],
 "metadata": {
  "colab": {
   "collapsed_sections": [],
   "provenance": []
  },
  "kernelspec": {
   "display_name": "Python 3 (ipykernel)",
   "language": "python",
   "name": "python3"
  },
  "language_info": {
   "codemirror_mode": {
    "name": "ipython",
    "version": 3
   },
   "file_extension": ".py",
   "mimetype": "text/x-python",
   "name": "python",
   "nbconvert_exporter": "python",
   "pygments_lexer": "ipython3",
   "version": "3.11.8"
  }
 },
 "nbformat": 4,
 "nbformat_minor": 5
}
