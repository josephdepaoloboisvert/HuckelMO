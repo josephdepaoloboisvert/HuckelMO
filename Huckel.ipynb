{
 "cells": [
  {
   "cell_type": "markdown",
   "id": "3dd86271",
   "metadata": {},
   "source": [
    "#### Batch Script to Translate to Python\n",
    "\n",
    "Input = a mol2 file \\\n",
    "Output = A csv of the predicted spectrum"
   ]
  },
  {
   "cell_type": "code",
   "execution_count": 132,
   "id": "5ac7f946",
   "metadata": {},
   "outputs": [],
   "source": [
    "#Moving any imports to front as I go\n",
    "import numpy as np\n",
    "from numpy import real\n",
    "import glob\n",
    "import math\n",
    "import matplotlib.pyplot as plt\n",
    "alpha=1.292              #electrostatic\n",
    "beta=-3.26934291633      #covalent"
   ]
  },
  {
   "cell_type": "markdown",
   "id": "197bfda8",
   "metadata": {},
   "source": [
    "## HUCKEL Molecular Orbital (HMO) Calculations\n",
    "\n",
    "### CHEM344  Physical Chemistry\n",
    "#### Department of Chemistry\n",
    "#### Illinois Institute of Technology\n",
    "\n",
    "#### Original Bash Code By Jingbai Li\n",
    "#### Translated to Python by Joseph DePaolo-Boisvert\n",
    "#### HUCKELMO Version 2.0  Aug 30th 2017\n",
    "#### Nov 1st, 2022"
   ]
  },
  {
   "cell_type": "code",
   "execution_count": 188,
   "id": "7a2fe603",
   "metadata": {},
   "outputs": [],
   "source": [
    "# #only print real part of eigenvalues   Feb 28th 2018 Jingbai Li\n",
    "# #V2-UI revised, interfaced with GView Aug 25th 2017 Jingbai Li\n",
    "# #Huckel_structures_calculator Feb 22th 2016 Jingbai Li \n",
    "\n",
    "# #!/bin/sh\n",
    "# #Variables\n",
    "\n",
    "# #home=~/Desktop/Huckel_Structures\n",
    "# home=./\n",
    "# cd $home\n",
    "\n",
    "\n",
    "mol2files = glob.glob('structures/*.mol2')\n",
    "\n",
    "if len(mol2files) == 0:\n",
    "    raise Exception('No Input Files Found')\n",
    "\n",
    "def run_mol2_file(mol2_fn):\n",
    "    # #Initial Parameters\n",
    "    alpha=1.292              #electrostatic\n",
    "    beta=-3.26934291633      #covalent\n",
    "    ele_num=0                #electrons\n",
    "    orb=0                    #orbitals\n",
    "    # alpha beta types: 1:C=C-C 2:C-N-C 3:C=N-C\n",
    "    # diagonal-alpha, alpha’=alpha + h * beta, C=C:0 C=N:2 C-N:1.5\n",
    "    # connected-beta, beta’=k*beta, C=C:1 C=N:1 C-N:0.8\n",
    "    with open(mol2_fn, 'r') as f:\n",
    "        lines = [line[:-1] if line.endswith('\\n') else line for line in f.readlines()]\n",
    "    \n",
    "    atomsec = lines[lines.index(\"@<TRIPOS>ATOM\") + 1:lines.index(\"@<TRIPOS>BOND\")]\n",
    "    atomsec = [[element for element in atom.split(' ') if element != ''] for atom in atomsec]\n",
    "    num_atoms = len(lines)\n",
    "    \n",
    "    bondsec = lines[lines.index(\"@<TRIPOS>BOND\") + 1 :]\n",
    "    if bondsec[-1] == '':\n",
    "        bondsec.pop(-1)\n",
    "    \n",
    "    bonds = []\n",
    "    for bond in bondsec:\n",
    "        bond = bond.split(' ')\n",
    "        if bond[-1] == '1':\n",
    "            bond[-1] = 'S'\n",
    "        elif bond[-1] == '2':\n",
    "            bond[-1] = 'D'\n",
    "        else:\n",
    "            bond[-1] = 'N'\n",
    "        bonds.append(bond)\n",
    "    bondsec = bonds\n",
    "    numbonds = len(bondsec)\n",
    "    #print(atomsec)\n",
    "    #print(bondsec)\n",
    "    \n",
    "    # #detect atom type, matrix dimension, diagonal element\n",
    "    typ = {}\n",
    "    dim = len(atomsec)\n",
    "    matrix = np.zeros((dim, dim))\n",
    "    for atom in atomsec:\n",
    "        atom_type = atom[-1]\n",
    "        atom_ind = int(atom[0]) - 1\n",
    "        if atom_type == 'C':\n",
    "            valence = 0 #the number of times it is listed in a bond\n",
    "            for bond in bondsec:\n",
    "                if atom[0] in bond[1:3]:\n",
    "                    valence += 1\n",
    "            if valence < 4:\n",
    "                typ[atom[0]] = 1\n",
    "                h = 0.000\n",
    "                ele_num += 1\n",
    "                orb += 1\n",
    "            else:\n",
    "                typ[atom[0]] = 0\n",
    "            \n",
    "        elif atom_type == 'N':\n",
    "            pyridine = False\n",
    "            for bond in bondsec:\n",
    "                if atom[0] in bond and 'D' in bond:\n",
    "                    pyridine = True\n",
    "            if pyridine:\n",
    "                typ[atom[0]] = 3\n",
    "                h = 2.000\n",
    "                ele_num += 1\n",
    "                orb += 1\n",
    "            else:\n",
    "                typ[atom[0]] = 2\n",
    "                h = 1.500\n",
    "                ele_num += 2 ####\n",
    "                orb += 1\n",
    "        \n",
    "        else:\n",
    "            typ[atom[0]] = 0\n",
    "            h = -1 * alpha / beta\n",
    "        \n",
    "        matrix[atom_ind, atom_ind] = alpha + h * beta\n",
    "    #print(typ)\n",
    "    #print(matrix)\n",
    "    \n",
    "    # #detect bond type, none-zero matrix element\n",
    "    for bond in bonds:\n",
    "        b1 = bond[1]\n",
    "        b2 = bond[2]\n",
    "        if typ[b1] == 0 or typ[b2] == 0:\n",
    "            k = 0.000\n",
    "        elif typ[b1] == 2 or typ[b2] == 2:\n",
    "            k = 0.800\n",
    "        else:\n",
    "            k = 1.000\n",
    "        b1_ind, b2_ind = int(b1) - 1, int(b2) - 1\n",
    "        matrix[b1_ind, b2_ind] = k * beta\n",
    "        matrix[b2_ind, b1_ind] = k * beta\n",
    "    \n",
    "    b = np.linalg.eigvals(matrix)\n",
    "    energies = [element for element in np.sort(real(b)) if element != 0 and element != alpha]\n",
    "    \n",
    "    print(f'Num_Electrons = {ele_num}')\n",
    "    \n",
    "    base = ele_num // 2\n",
    "    \n",
    "    print()\n",
    "    print('Orbital Energies (au)')\n",
    "    \n",
    "    for i in range(len(energies)):\n",
    "        s = f'{i+1}      {energies[i]:.4f}'\n",
    "        if i+1  == base: # base is 1 indexed and i is zero\n",
    "            s = f'{i+1} HOMO {energies[i]:.4f}'\n",
    "            homo_ind = i\n",
    "        elif i+1 == base + 1:\n",
    "            s = f'{i+1} LUMO {energies[i]:.4f}'\n",
    "            lumo_ind = i\n",
    "        print(s)\n",
    "    \n",
    "    gap_energy = energies[lumo_ind] - energies[homo_ind]\n",
    "    print()\n",
    "    print(f'HOMO-LUMO Gap = {gap_energy:.5f} (au)')\n",
    "    print()\n",
    "    x = np.arange(100,1601)\n",
    "    y = lambda x, gap_energy : math.sqrt(2/math.pi)/70*math.e**(-2*((x-(2.998*10**8)*10**9/((1.60217656*10**(-19))/(6.626*10**(-34)))/(gap_energy))/70)**2)\n",
    "    \n",
    "    plt.clf()\n",
    "    plt.title('Prdeicted Spectrum')\n",
    "    plt.xlabel('Wavelength (nm)')\n",
    "    plt.ylabel('Intensity')\n",
    "    _ = plt.plot(x, y(x, gap_energy))\n",
    "    plt.show()"
   ]
  },
  {
   "cell_type": "code",
   "execution_count": 189,
   "id": "9a27194e",
   "metadata": {},
   "outputs": [
    {
     "data": {
      "text/plain": [
       "0.39518644359593036"
      ]
     },
     "execution_count": 189,
     "metadata": {},
     "output_type": "execute_result"
    }
   ],
   "source": [
    "(-1*alpha / beta)"
   ]
  },
  {
   "cell_type": "code",
   "execution_count": 192,
   "id": "446d8bdf",
   "metadata": {},
   "outputs": [
    {
     "name": "stdout",
     "output_type": "stream",
     "text": [
      "Num_Electrons = 25\n",
      "\n",
      "Orbital Energies (au)\n",
      "1      -6.8853\n",
      "2      -6.8290\n",
      "3      -5.0627\n",
      "4      -4.7473\n",
      "5      -4.5551\n",
      "6      -4.1499\n",
      "7      -2.5504\n",
      "8      -1.9773\n",
      "9      -1.9773\n",
      "10      -1.6171\n",
      "11      -1.3920\n",
      "12 HOMO 0.2545\n",
      "13 LUMO 2.0635\n",
      "14      3.4715\n",
      "15      4.5613\n",
      "16      4.5613\n",
      "17      4.7907\n",
      "18      4.8978\n",
      "19      5.5169\n",
      "20      6.7738\n",
      "21      7.2519\n",
      "22      8.6696\n",
      "23      8.8385\n",
      "\n",
      "HOMO-LUMO Gap = 1.80901 (au)\n",
      "\n"
     ]
    },
    {
     "data": {
      "image/png": "[encoded data removed]",
      "text/plain": [
       "<Figure size 432x288 with 1 Axes>"
      ]
     },
     "metadata": {
      "needs_background": "light"
     },
     "output_type": "display_data"
    }
   ],
   "source": [
    "out = run_mol2_file('structures/11DIETHYL44CARBOCYANINE.mol2')"
   ]
  },
  {
   "cell_type": "code",
   "execution_count": 95,
   "id": "551028ef",
   "metadata": {},
   "outputs": [
    {
     "name": "stdout",
     "output_type": "stream",
     "text": [
      "-5.24668583266\n",
      "-1.9773429163300007\n",
      "-1.9773429163299996\n",
      "4.561342916329999\n",
      "4.561342916330001\n",
      "7.830685832660006\n"
     ]
    }
   ],
   "source": [
    "import numpy as np\n",
    "from numpy import loadtxt\n",
    "from numpy import real\n",
    "#a = loadtxt('secular_determinant.txt')\n",
    "b = np.linalg.eigvals(out)\n",
    "b = real(b)\n",
    "c = np.sort(b)\n",
    "s = ''\n",
    "#f = open('eigenvalues.txt','w')\n",
    "for line in c:\n",
    "    if line != 0 and line != alpha: # get rid of inappropriate eigenvals\n",
    "        print(line)"
   ]
  },
  {
   "cell_type": "code",
   "execution_count": null,
   "id": "42458eeb",
   "metadata": {},
   "outputs": [],
   "source": []
  },
  {
   "cell_type": "code",
   "execution_count": null,
   "id": "e99a3ccc",
   "metadata": {},
   "outputs": [],
   "source": []
  }
 ],
 "metadata": {
  "kernelspec": {
   "display_name": "Python 3 (ipykernel)",
   "language": "python",
   "name": "python3"
  },
  "language_info": {
   "codemirror_mode": {
    "name": "ipython",
    "version": 3
   },
   "file_extension": ".py",
   "mimetype": "text/x-python",
   "name": "python",
   "nbconvert_exporter": "python",
   "pygments_lexer": "ipython3",
   "version": "3.9.12"
  }
 },
 "nbformat": 4,
 "nbformat_minor": 5
}
